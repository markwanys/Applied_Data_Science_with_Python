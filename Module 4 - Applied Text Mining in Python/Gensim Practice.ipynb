{
 "cells": [
  {
   "cell_type": "code",
   "execution_count": 1,
   "metadata": {},
   "outputs": [],
   "source": [
    "from gensim.test.utils import common_texts\n",
    "from gensim.corpora.dictionary import Dictionary\n",
    "from gensim import models\n",
    "\n",
    "# Create a corpus from a list of texts\n",
    "common_dictionary = Dictionary(common_texts)\n",
    "common_corpus = [common_dictionary.doc2bow(text) for text in common_texts]\n",
    "\n"
   ]
  },
  {
   "cell_type": "code",
   "execution_count": 2,
   "metadata": {},
   "outputs": [
    {
     "data": {
      "text/plain": [
       "[['human', 'interface', 'computer'],\n",
       " ['survey', 'user', 'computer', 'system', 'response', 'time'],\n",
       " ['eps', 'user', 'interface', 'system'],\n",
       " ['system', 'human', 'system', 'eps'],\n",
       " ['user', 'response', 'time'],\n",
       " ['trees'],\n",
       " ['graph', 'trees'],\n",
       " ['graph', 'minors', 'trees'],\n",
       " ['graph', 'minors', 'survey']]"
      ]
     },
     "execution_count": 2,
     "metadata": {},
     "output_type": "execute_result"
    }
   ],
   "source": [
    "common_texts"
   ]
  },
  {
   "cell_type": "code",
   "execution_count": 3,
   "metadata": {},
   "outputs": [
    {
     "data": {
      "text/plain": [
       "'graph'"
      ]
     },
     "execution_count": 3,
     "metadata": {},
     "output_type": "execute_result"
    }
   ],
   "source": [
    "common_dictionary.get(10)"
   ]
  },
  {
   "cell_type": "code",
   "execution_count": 36,
   "metadata": {},
   "outputs": [
    {
     "data": {
      "text/plain": [
       "[[(0, 1), (1, 1), (2, 1)],\n",
       " [(0, 1), (3, 1), (4, 1), (5, 1), (6, 1), (7, 1)],\n",
       " [(2, 1), (5, 1), (7, 1), (8, 1)],\n",
       " [(1, 1), (5, 2), (8, 1)],\n",
       " [(3, 1), (6, 1), (7, 1)],\n",
       " [(9, 1)],\n",
       " [(9, 1), (10, 1)],\n",
       " [(9, 1), (10, 1), (11, 1)],\n",
       " [(4, 1), (10, 1), (11, 1)]]"
      ]
     },
     "execution_count": 36,
     "metadata": {},
     "output_type": "execute_result"
    }
   ],
   "source": [
    "common_corpus"
   ]
  },
  {
   "cell_type": "code",
   "execution_count": 5,
   "metadata": {
    "scrolled": true
   },
   "outputs": [
    {
     "data": {
      "text/plain": [
       "[(0, 1), (1, 1), (2, 1)]"
      ]
     },
     "execution_count": 5,
     "metadata": {},
     "output_type": "execute_result"
    }
   ],
   "source": [
    "common_dictionary.doc2bow(common_texts[0])"
   ]
  },
  {
   "cell_type": "code",
   "execution_count": 6,
   "metadata": {},
   "outputs": [
    {
     "data": {
      "text/plain": [
       "[(0, 1), (3, 1), (4, 1), (5, 1), (6, 1), (7, 1)]"
      ]
     },
     "execution_count": 6,
     "metadata": {},
     "output_type": "execute_result"
    }
   ],
   "source": [
    "common_dictionary.doc2bow(common_texts[1])"
   ]
  },
  {
   "cell_type": "code",
   "execution_count": 7,
   "metadata": {},
   "outputs": [],
   "source": [
    "# Train the model on the corpus.\n",
    "lda = models.ldamodel.LdaModel(common_corpus,id2word=common_dictionary, num_topics=10)"
   ]
  },
  {
   "cell_type": "code",
   "execution_count": 8,
   "metadata": {
    "scrolled": true
   },
   "outputs": [
    {
     "data": {
      "text/plain": [
       "[(0, '0.120*\"user\"'),\n",
       " (1, '0.404*\"system\"'),\n",
       " (2, '0.083*\"trees\"'),\n",
       " (3, '0.083*\"trees\"'),\n",
       " (4, '0.212*\"time\"'),\n",
       " (5, '0.083*\"trees\"'),\n",
       " (6, '0.262*\"trees\"'),\n",
       " (7, '0.212*\"eps\"'),\n",
       " (8, '0.153*\"minors\"'),\n",
       " (9, '0.083*\"trees\"')]"
      ]
     },
     "execution_count": 8,
     "metadata": {},
     "output_type": "execute_result"
    }
   ],
   "source": [
    "lda.print_topics(num_topics=10,num_words=1)"
   ]
  },
  {
   "cell_type": "code",
   "execution_count": 32,
   "metadata": {},
   "outputs": [
    {
     "data": {
      "text/plain": [
       "[(0, '0.120*\"user\" + 0.120*\"system\"'),\n",
       " (1, '0.404*\"system\" + 0.212*\"human\"'),\n",
       " (2, '0.083*\"trees\" + 0.083*\"graph\"'),\n",
       " (3, '0.083*\"trees\" + 0.083*\"graph\"'),\n",
       " (4, '0.212*\"time\" + 0.212*\"response\"'),\n",
       " (5, '0.083*\"trees\" + 0.083*\"graph\"'),\n",
       " (6, '0.262*\"trees\" + 0.262*\"graph\"'),\n",
       " (7, '0.212*\"eps\" + 0.212*\"user\"'),\n",
       " (8, '0.153*\"minors\" + 0.153*\"computer\"'),\n",
       " (9, '0.083*\"trees\" + 0.083*\"graph\"')]"
      ]
     },
     "execution_count": 32,
     "metadata": {},
     "output_type": "execute_result"
    }
   ],
   "source": [
    "lda.print_topics(num_topics=10,num_words=2)"
   ]
  },
  {
   "cell_type": "code",
   "execution_count": 29,
   "metadata": {},
   "outputs": [
    {
     "data": {
      "text/plain": [
       "0.9999999888241291"
      ]
     },
     "execution_count": 29,
     "metadata": {},
     "output_type": "execute_result"
    }
   ],
   "source": [
    "lst=[tup[1] for tup in lda[common_corpus][5]]\n",
    "sum(lst)"
   ]
  },
  {
   "cell_type": "code",
   "execution_count": 24,
   "metadata": {},
   "outputs": [
    {
     "data": {
      "text/plain": [
       "[(0, 0.025002224),\n",
       " (1, 0.025004238),\n",
       " (2, 0.025000036),\n",
       " (3, 0.025000036),\n",
       " (4, 0.025000032),\n",
       " (5, 0.025000036),\n",
       " (6, 0.025000032),\n",
       " (7, 0.025004214),\n",
       " (8, 0.7749891),\n",
       " (9, 0.025000036)]"
      ]
     },
     "execution_count": 24,
     "metadata": {},
     "output_type": "execute_result"
    }
   ],
   "source": [
    "lda[common_corpus[0]]"
   ]
  },
  {
   "cell_type": "code",
   "execution_count": 52,
   "metadata": {},
   "outputs": [
    {
     "data": {
      "text/plain": [
       "0.9999999925494194"
      ]
     },
     "execution_count": 52,
     "metadata": {},
     "output_type": "execute_result"
    }
   ],
   "source": [
    "c=[(0,1),(0,1),(0,1)]\n",
    "lda[c]\n",
    "lst=[tup[1] for tup in lda[c]]\n",
    "sum(lst)"
   ]
  },
  {
   "cell_type": "code",
   "execution_count": 51,
   "metadata": {},
   "outputs": [
    {
     "data": {
      "text/plain": [
       "[(0, 0.05000974),\n",
       " (1, 0.050000038),\n",
       " (2, 0.05000004),\n",
       " (3, 0.05000004),\n",
       " (4, 0.05001847),\n",
       " (5, 0.05000004),\n",
       " (6, 0.5499715),\n",
       " (7, 0.050000038),\n",
       " (8, 0.050000038),\n",
       " (9, 0.05000004)]"
      ]
     },
     "execution_count": 51,
     "metadata": {},
     "output_type": "execute_result"
    }
   ],
   "source": [
    "lda[common_corpus[5]]"
   ]
  },
  {
   "cell_type": "code",
   "execution_count": 50,
   "metadata": {},
   "outputs": [
    {
     "data": {
      "text/plain": [
       "[(0, 0.016668972),\n",
       " (1, 0.016666677),\n",
       " (2, 0.016666679),\n",
       " (3, 0.016666679),\n",
       " (4, 0.016671352),\n",
       " (5, 0.016666679),\n",
       " (6, 0.8499929),\n",
       " (7, 0.016666677),\n",
       " (8, 0.016666677),\n",
       " (9, 0.016666679)]"
      ]
     },
     "execution_count": 50,
     "metadata": {},
     "output_type": "execute_result"
    }
   ],
   "source": [
    "c2=[(9, 1),(9, 1),(9, 1),(9, 1),(9, 1)]\n",
    "lda[c2]"
   ]
  },
  {
   "cell_type": "code",
   "execution_count": 44,
   "metadata": {},
   "outputs": [],
   "source": [
    "lda2 = models.ldamodel.LdaModel(common_corpus[0:1],id2word=common_dictionary, num_topics=10)"
   ]
  },
  {
   "cell_type": "code",
   "execution_count": 45,
   "metadata": {},
   "outputs": [
    {
     "data": {
      "text/plain": [
       "[(0, '0.083*\"computer\" + 0.083*\"human\"'),\n",
       " (1, '0.083*\"computer\" + 0.083*\"human\"'),\n",
       " (2, '0.083*\"computer\" + 0.083*\"human\"'),\n",
       " (3, '0.083*\"interface\" + 0.083*\"human\"'),\n",
       " (4, '0.262*\"interface\" + 0.262*\"human\"'),\n",
       " (5, '0.083*\"computer\" + 0.083*\"interface\"'),\n",
       " (6, '0.083*\"interface\" + 0.083*\"computer\"'),\n",
       " (7, '0.083*\"human\" + 0.083*\"computer\"'),\n",
       " (8, '0.083*\"human\" + 0.083*\"computer\"'),\n",
       " (9, '0.083*\"computer\" + 0.083*\"interface\"')]"
      ]
     },
     "execution_count": 45,
     "metadata": {},
     "output_type": "execute_result"
    }
   ],
   "source": [
    "lda2.print_topics(num_topics=10,num_words=2)"
   ]
  },
  {
   "cell_type": "code",
   "execution_count": 46,
   "metadata": {},
   "outputs": [
    {
     "data": {
      "text/plain": [
       "[(0, 0.025000017),\n",
       " (1, 0.025000017),\n",
       " (2, 0.025000017),\n",
       " (3, 0.025000017),\n",
       " (4, 0.77499986),\n",
       " (5, 0.025000017),\n",
       " (6, 0.025000017),\n",
       " (7, 0.025000017),\n",
       " (8, 0.025000017),\n",
       " (9, 0.025000017)]"
      ]
     },
     "execution_count": 46,
     "metadata": {},
     "output_type": "execute_result"
    }
   ],
   "source": [
    "lda2[common_corpus[0]]"
   ]
  },
  {
   "cell_type": "code",
   "execution_count": 47,
   "metadata": {},
   "outputs": [
    {
     "data": {
      "text/plain": [
       "[(0, 1), (1, 1), (2, 1)]"
      ]
     },
     "execution_count": 47,
     "metadata": {},
     "output_type": "execute_result"
    }
   ],
   "source": [
    "common_corpus[0]"
   ]
  }
 ],
 "metadata": {
  "kernelspec": {
   "display_name": "Python 3",
   "language": "python",
   "name": "python3"
  },
  "language_info": {
   "codemirror_mode": {
    "name": "ipython",
    "version": 3
   },
   "file_extension": ".py",
   "mimetype": "text/x-python",
   "name": "python",
   "nbconvert_exporter": "python",
   "pygments_lexer": "ipython3",
   "version": "3.7.4"
  }
 },
 "nbformat": 4,
 "nbformat_minor": 2
}
